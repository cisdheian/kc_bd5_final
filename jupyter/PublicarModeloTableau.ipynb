{
 "cells": [
  {
   "cell_type": "markdown",
   "metadata": {
    "colab_type": "text",
    "id": "4rIqFaFrEUoE"
   },
   "source": [
    "## Preparacion y publicacion de modelo ML en TabPy para consumir desde tableau Desktop\n",
    "\n",
    "En este notebook crearemos un proceso de transformacion y predicción de precios de hosting de airbnb de Madrid, usando como entrada sus caracteristicas y modelos preentrenado previamente"
   ]
  },
  {
   "cell_type": "code",
   "execution_count": 1,
   "metadata": {
    "colab": {},
    "colab_type": "code",
    "id": "M8bjZYpIEUoF"
   },
   "outputs": [],
   "source": [
    "# Hacer los imports\n",
    "import warnings\n",
    "warnings.filterwarnings('ignore')\n",
    "from tabpy_client import Client\n",
    "import joblib\n",
    "import numpy as np\n",
    "import re\n",
    "import pandas as pd"
   ]
  },
  {
   "cell_type": "markdown",
   "metadata": {},
   "source": [
    "Este proyecto ya tiene previamente entrenado dos modelos, un DecisionTreeRegressor y un RandomForestRegressor, por lo que unicamente los cargamos para consumirlos"
   ]
  },
  {
   "cell_type": "code",
   "execution_count": 2,
   "metadata": {
    "colab": {},
    "colab_type": "code",
    "id": "dWyqEI0jEUoI"
   },
   "outputs": [],
   "source": [
    "#Cargamos los modelos preentrenados\n",
    "tree_reg = joblib.load(\"tree_reg.pkl\")\n",
    "forest_reg = joblib.load( \"forest_reg.pkl\")"
   ]
  },
  {
   "cell_type": "markdown",
   "metadata": {},
   "source": [
    "De igual manera todo el analisis exploratorio ya fue realizado previamente, por lo que solo retomamos la informacion relevante"
   ]
  },
  {
   "cell_type": "code",
   "execution_count": 3,
   "metadata": {
    "colab": {},
    "colab_type": "code",
    "id": "XEbxE3LVEUoL"
   },
   "outputs": [],
   "source": [
    "variables_categoricas = [\"property_type\", \"room_type\", \"bathrooms_text\", \"postal_code\"]\n",
    "variables_binarias = [\"host_is_superhost\", \"host_identity_verified\", \"Bedroom comforts\", \"Hot water\", \"Kitchen\", \"TV\",\n",
    "                      \"Cable TV\", \"Pocket wifi\", \"Changing table\", \"Patio or balcony\", \"Waterfront\", \"Bread maker\",\n",
    "                      \"Full kitchen\", \"Heating\", \"Single level home\", \"Bathroom essentials\", \"Pets allowed\",\n",
    "                      \"Game console\", \"Cooking basics\", \"Shampoo\", \"Bed linens\", \"First aid kit\", \"Piano\", \"Dishwasher\",\n",
    "                      \"Extra pillows and blankets\", \"Iron\", \"Self check-in\", \"Garden or backyard\", \"Baby monitor\",\n",
    "                      \"Beachfront\", \"Fire extinguisher\", \"Window guards\", \"Barbecue utensils\", \"Dishes and silverware\",\n",
    "                      \"Ethernet connection\", \"Coffee maker\", \"BBQ grill\", \"Lake access\", \"Hot tub\",\n",
    "                      \"Long term stays allowed\", \"Laptop-friendly workspace\", \"Paid parking on premises\", \"Stove\",\n",
    "                      \"Smoke alarm\", \"Carbon monoxide alarm\", \"Microwave\", \"Refrigerator\", \"Free parking on premises\",\n",
    "                      \"Lockbox\", \"Paid parking off premises\", \"Ski-in/Ski-out\", \"Shower gel\", \"Breakfast\", \"Dryer\",\n",
    "                      \"Free street parking\", \"Air conditioning\", \"Stair gates\", \"Wifi\", \"Baking sheet\",\n",
    "                      \"Lock on bedroom door\", \"Host greets you\", \"Suitable for events\", \"Cleaning before checkout\",\n",
    "                      \"Hair dryer\", \"Children’s books and toys\", \"Room-darkening shades\", \"Outlet covers\", \"Keypad\",\n",
    "                      \"Gym\", \"Fireplace guards\", \"Indoor fireplace\", \"Table corner guards\", \"Smoking allowed\",\n",
    "                      \"Children’s dinnerware\", \"Essentials\", \"Washer\", \"Baby bath\", \"Luggage dropoff allowed\",\n",
    "                      \"Elevator\", \"Smart lock\", \"Babysitter recommendations\", \"EV charger\", \"Building staff\",\n",
    "                      \"Private living room\", \"Oven\", \"Beach essentials\", \"Crib\", \"Private entrance\",\n",
    "                      \"Pack ’n Play/travel crib\", \"Pool\", \"Bathtub\", \"High chair\", \"Hangers\"]\n",
    "variables_numericas = [\"host_listings_count\", \"number_of_reviews\", \"review_scores_rating\", \"accommodates\", \"bedrooms\",\n",
    "                       \"beds\", \"antiguedad_host\"]\n",
    "variable_objetivo = \"price_clean\"\n",
    "amenities_list = ['Bedroom comforts', 'Hot water', 'Kitchen', 'TV', 'Cable TV', 'Pocket wifi', 'Changing table',\n",
    "                  'Patio or balcony', 'Waterfront', 'Bread maker', 'Full kitchen', 'Heating', 'Single level home',\n",
    "                  'Bathroom essentials', 'Pets allowed', 'Game console', 'Cooking basics', 'Shampoo', 'Bed linens',\n",
    "                  'First aid kit', 'Piano', 'Dishwasher', 'Extra pillows and blankets', 'Iron', 'Self check-in',\n",
    "                  'Garden or backyard', 'Baby monitor', 'Beachfront', 'Fire extinguisher', 'Window guards',\n",
    "                  'Barbecue utensils', 'Dishes and silverware', 'Ethernet connection', 'Coffee maker', 'BBQ grill',\n",
    "                  'Lake access', 'Hot tub', 'Long term stays allowed', 'Laptop-friendly workspace',\n",
    "                  'Paid parking on premises', 'Stove', 'Smoke alarm', 'Carbon monoxide alarm', 'Microwave',\n",
    "                  'Refrigerator', 'Free parking on premises', 'Lockbox', 'Paid parking off premises', 'Ski-in/Ski-out',\n",
    "                  'Shower gel', 'Breakfast', 'Dryer', 'Free street parking', 'Air conditioning', 'Stair gates', 'Wifi',\n",
    "                  'Baking sheet', 'Lock on bedroom door', 'Host greets you', 'Suitable for events',\n",
    "                  'Cleaning before checkout', 'Hair dryer', 'Children’s books and toys', 'Room-darkening shades',\n",
    "                  'Outlet covers', 'Keypad', 'Gym', 'Fireplace guards', 'Indoor fireplace', 'Table corner guards',\n",
    "                  'Smoking allowed', 'Children’s dinnerware', 'Essentials', 'Washer', 'Baby bath',\n",
    "                  'Luggage dropoff allowed', 'Elevator', 'Smart lock', 'Babysitter recommendations', 'EV charger',\n",
    "                  'Building staff', 'Private living room', 'Oven', 'Beach essentials', 'Crib', 'Private entrance',\n",
    "                  'Pack ’n Play/travel crib', 'Pool', 'Bathtub', 'High chair', 'Hangers']\n",
    "\n",
    "def getCleanValue(o):\n",
    "    remove = re.compile(r'[^\\d\\.]+')\n",
    "    s = \"0.00\"\n",
    "    try:\n",
    "        s = remove.sub(\" \", str(o)).strip()\n",
    "    except:\n",
    "        s = \"0.00\"\n",
    "    f=0.00\n",
    "    try:\n",
    "        f= np.float64(s)\n",
    "    except:\n",
    "        f = np.float64(0.00)\n",
    "    return f"
   ]
  },
  {
   "cell_type": "markdown",
   "metadata": {
    "colab": {},
    "colab_type": "code",
    "id": "8p_38EXFEUoN"
   },
   "source": [
    "Creamos el pipeline de transformacion y normalizacion de los features que espera el modelo"
   ]
  },
  {
   "cell_type": "code",
   "execution_count": 4,
   "metadata": {
    "colab": {},
    "colab_type": "code",
    "id": "ROz-qG2sEUoP"
   },
   "outputs": [],
   "source": [
    "from sklearn.pipeline import Pipeline\n",
    "from sklearn.preprocessing import StandardScaler, OneHotEncoder\n",
    "from sklearn.impute import SimpleImputer\n",
    "from sklearn.compose import ColumnTransformer\n",
    "\n",
    "cat_pipeline = Pipeline([\n",
    "    ('imputer', SimpleImputer(strategy=\"most_frequent\")),\n",
    "    ('encoder', OneHotEncoder(handle_unknown='ignore', sparse=True)),\n",
    "])\n",
    "\n",
    "num_pipeline = Pipeline([\n",
    "    ('imputer', SimpleImputer(missing_values=0.00, strategy=\"mean\")),\n",
    "    ('std_scaler', StandardScaler()),\n",
    "])\n",
    "\n",
    "full_pipeline = ColumnTransformer([\n",
    "    (\"num\", num_pipeline, variables_numericas),\n",
    "    (\"cat\", cat_pipeline, variables_categoricas),\n",
    "    (\"bool\", StandardScaler(), variables_binarias)\n",
    "])"
   ]
  },
  {
   "cell_type": "markdown",
   "metadata": {},
   "source": [
    "Recargamos el dataset con el que se preparo y entreno el modelo, de manera que nuestro pipeline haga el fit de los features a transformar"
   ]
  },
  {
   "cell_type": "code",
   "execution_count": 5,
   "metadata": {
    "colab": {},
    "colab_type": "code",
    "id": "2164wUSfEUoR",
    "outputId": "7f7fe77b-7443-44f6-ded8-78a4ea25290c"
   },
   "outputs": [
    {
     "data": {
      "text/plain": [
       "array([[-3.15683088e-01,  3.46136059e-01,  3.14701121e-01, ...,\n",
       "        -2.19562851e-01, -2.43148090e-01,  4.65670421e-01],\n",
       "       [-2.98614475e-01, -7.25677624e-01, -1.51276671e+00, ...,\n",
       "        -2.19562851e-01, -2.43148090e-01,  4.65670421e-01],\n",
       "       [-2.55166739e-02,  0.00000000e+00, -1.73132532e-15, ...,\n",
       "        -2.19562851e-01, -2.43148090e-01,  4.65670421e-01],\n",
       "       ...,\n",
       "       [ 9.39636142e-02,  0.00000000e+00, -1.73132532e-15, ...,\n",
       "        -2.19562851e-01,  4.11271995e+00,  4.65670421e-01],\n",
       "       [-1.62065575e-01, -6.94153692e-01, -6.59948389e-01, ...,\n",
       "        -2.19562851e-01, -2.43148090e-01,  4.65670421e-01],\n",
       "       [-3.15683088e-01,  0.00000000e+00, -1.73132532e-15, ...,\n",
       "         4.55450452e+00, -2.43148090e-01,  4.65670421e-01]])"
      ]
     },
     "execution_count": 5,
     "metadata": {},
     "output_type": "execute_result"
    }
   ],
   "source": [
    "#Importamos un dataset ya preparado para hacer fit de los pipelines de tranformacion a utilizar\n",
    "import pandas as pd\n",
    "\n",
    "df = pd.read_csv(\"train_prepared.csv\", index_col=0)\n",
    "df = df.drop(variable_objetivo, axis=1)\n",
    "for x in variables_categoricas:\n",
    "    df[x] = df[x].astype(str)\n",
    "for x in variables_binarias:\n",
    "    df[x] = df[x].fillna(0)\n",
    "    df[x] = df[x].astype(np.int8)\n",
    "for x in variables_numericas:\n",
    "    df[x] = df[x].apply(lambda c: getCleanValue(c))\n",
    "    df[x] = df[x].astype(float)\n",
    "    \n",
    "full_pipeline.fit_transform(df)"
   ]
  },
  {
   "cell_type": "markdown",
   "metadata": {},
   "source": [
    "Finalmente creamos una funcion que recibira como parametros los features necesarios y en base a estos devuelve el valor predicho por el modelo de Random Forest"
   ]
  },
  {
   "cell_type": "code",
   "execution_count": 6,
   "metadata": {
    "colab": {},
    "colab_type": "code",
    "id": "zyF5QSWuEUob"
   },
   "outputs": [],
   "source": [
    "def hostPricePredictor(_arg1, _arg2, _arg3, _arg4, _arg5, _arg6, _arg7, _arg8, _arg9, _arg10, _arg11, _arg12, _arg13, _arg14):\n",
    "        \n",
    "    #Transformamos a diccionario para cargar en un DataFrame    \n",
    "    tab_datos = {\"host_is_superhost\": _arg1\n",
    "                ,\"host_listings_count\": _arg2\n",
    "                ,\"host_identity_verified\": _arg3\n",
    "                ,\"property_type\": _arg4\n",
    "                ,\"room_type\": _arg5\n",
    "                ,\"accommodates\": _arg6\n",
    "                ,\"bathrooms_text\": _arg7\n",
    "                ,\"bedrooms\": _arg8\n",
    "                ,\"beds\": _arg9\n",
    "                ,\"number_of_reviews\": _arg10\n",
    "                ,\"review_scores_rating\": _arg11\n",
    "                ,\"antiguedad_host\": _arg12\n",
    "                ,\"postal_code\": _arg13\n",
    "                ,\"amenities\": _arg14\n",
    "                }\n",
    "\n",
    "    df = pd.DataFrame.from_dict(data=tab_datos, orient='columns')\n",
    "    \n",
    "    #Preparamos los datos\n",
    "    for a in amenities_list:\n",
    "        df[a] = df.amenities.loc[np.logical_not(df.amenities.isna())].apply(lambda c: 1 if a in c else 0)\n",
    "    df = df.drop([\"amenities\"], axis=1)\n",
    "    \n",
    "    for x in variables_categoricas:\n",
    "        df[x] = df[x].astype(str)\n",
    "    for x in variables_binarias:\n",
    "        df[x] = df[x].fillna(0)\n",
    "        df[x] = df[x].astype(np.int8)\n",
    "    for x in variables_numericas:\n",
    "        df[x] = df[x].apply(lambda c: getCleanValue(c))\n",
    "        df[x] = df[x].astype(float)\n",
    "    #Transformamos segun el pipeline\n",
    "    listing_prepared = full_pipeline.transform(df)\n",
    "    \n",
    "    #Ejecutamos la prediccion\n",
    "    tree_predictions = tree_reg.predict(listing_prepared)\n",
    "    forest_predictions = forest_reg.predict(listing_prepared)\n",
    "    \n",
    "    #Devolvemos los resultados\n",
    "    return [price for price in forest_predictions]\n"
   ]
  },
  {
   "cell_type": "code",
   "execution_count": 7,
   "metadata": {
    "colab": {},
    "colab_type": "code",
    "id": "vplRqcm-EUof"
   },
   "outputs": [
    {
     "data": {
      "text/plain": [
       "[49.81513249706778]"
      ]
     },
     "execution_count": 7,
     "metadata": {},
     "output_type": "execute_result"
    }
   ],
   "source": [
    "#Probamos la funcion\n",
    "hostPricePredictor([1], [1], [1], [\"Private room\"], [\"Private room\"], [2], [\"1 bath\"], [2], [2], [50], [90], [2], [\"28053\"], ['[\"Air conditioning\", \"Washer\", \"Kitchen\", \"Private entrance\", \"Wifi\", \"Heating\", \"TV\", \"Essentials\"]'])"
   ]
  },
  {
   "cell_type": "markdown",
   "metadata": {},
   "source": [
    "### Publicacion en tableau\n",
    "\n",
    "Una vez ya tenemos nuestra función creada y funcionando, nos conectamos a TabPy en nuestro servidor local y hacemos deploy de la función para que pueda ser consumida posteriormente en tableau desktop"
   ]
  },
  {
   "cell_type": "code",
   "execution_count": 8,
   "metadata": {
    "colab": {},
    "colab_type": "code",
    "id": "en_QRB2TEUod",
    "outputId": "57f0cea3-d75b-422c-c74a-5f81d7565d75"
   },
   "outputs": [],
   "source": [
    "cliente = Client(\"http://localhost:9004\")\n",
    "cliente.remove(\"hostPricePredictor\")\n",
    "cliente.deploy(\"hostPricePredictor\", hostPricePredictor, \"Calcula el precio del hosting segun los parametros recibidos\", override = True)"
   ]
  },
  {
   "cell_type": "markdown",
   "metadata": {},
   "source": [
    "Ya con esto nos vamos a tableau desktop y usamos la funcion publicada"
   ]
  }
 ],
 "metadata": {
  "colab": {
   "name": "Publicar Modelo en Tableau.ipynb",
   "provenance": []
  },
  "kernelspec": {
   "display_name": "Python 3",
   "language": "python",
   "name": "python3"
  },
  "language_info": {
   "codemirror_mode": {
    "name": "ipython",
    "version": 3
   },
   "file_extension": ".py",
   "mimetype": "text/x-python",
   "name": "python",
   "nbconvert_exporter": "python",
   "pygments_lexer": "ipython3",
   "version": "3.7.7"
  }
 },
 "nbformat": 4,
 "nbformat_minor": 1
}
